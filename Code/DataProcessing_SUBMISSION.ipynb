{
  "nbformat": 4,
  "nbformat_minor": 0,
  "metadata": {
    "colab": {
      "provenance": [],
      "authorship_tag": "ABX9TyOLO0e5PwgplqBgxHRLC9j4",
      "include_colab_link": true
    },
    "kernelspec": {
      "name": "python3",
      "display_name": "Python 3"
    },
    "language_info": {
      "name": "python"
    }
  },
  "cells": [
    {
      "cell_type": "markdown",
      "metadata": {
        "id": "view-in-github",
        "colab_type": "text"
      },
      "source": [
        "<a href=\"https://colab.research.google.com/github/Kush78910/DCGAN_ISM/blob/main/DataProcessing_SUBMISSION.ipynb\" target=\"_parent\"><img src=\"https://colab.research.google.com/assets/colab-badge.svg\" alt=\"Open In Colab\"/></a>"
      ]
    },
    {
      "cell_type": "code",
      "execution_count": null,
      "metadata": {
        "id": "XGjO3rnLpFe7"
      },
      "outputs": [],
      "source": [
        "import pandas as pd\n",
        "import numpy as np\n",
        "import matplotlib.pyplot as plt\n",
        "import glob\n",
        "%matplotlib inline\n",
        "from google.colab import drive\n",
        "import torchvision.datasets as dset\n",
        "import torchvision.transforms as transforms\n",
        "import urllib\n",
        "from PIL import Image, ImageOps\n",
        "from urllib.error import HTTPError, URLError\n",
        "import os"
      ]
    },
    {
      "cell_type": "code",
      "source": [
        "drive.mount('/content/drive')"
      ],
      "metadata": {
        "id": "pV97fx8zbOw0"
      },
      "execution_count": null,
      "outputs": []
    },
    {
      "cell_type": "code",
      "source": [
        "#carmax downloading didn't work so it's commented\n",
        "\n",
        "path = r'../content/drive/MyDrive/GAN/'\n",
        "\n",
        "carvana_excel = glob.glob(path + \"/carvana\" + \"/*.xlsx\")\n",
        "# carmax_excel = glob.glob(path + \"/carmax\" + \"/*.xlsx\")\n",
        "\n",
        "li = []\n",
        "for filename in carvana_excel:\n",
        "    df = pd.read_excel(filename, index_col=None, header=0)\n",
        "    li.append(df)\n",
        "\n",
        "carvana_df = pd.concat(li, axis=0, ignore_index=True)\n",
        "\n",
        "# li = []\n",
        "# for filename in carmax_excel:\n",
        "#     df = pd.read_excel(filename, index_col=None, header=0)\n",
        "#     li.append(df)\n",
        "\n",
        "# carmax_df = pd.concat(li, axis=0, ignore_index=True)"
      ],
      "metadata": {
        "id": "P8RUPXaJqgGa"
      },
      "execution_count": null,
      "outputs": []
    },
    {
      "cell_type": "code",
      "source": [
        "carvana_df.info()\n"
      ],
      "metadata": {
        "id": "o-PWutOnqhcy"
      },
      "execution_count": null,
      "outputs": []
    },
    {
      "cell_type": "code",
      "source": [
        "# carmax_df.info()"
      ],
      "metadata": {
        "id": "20JH_jZpCEBO"
      },
      "execution_count": null,
      "outputs": []
    },
    {
      "cell_type": "code",
      "source": [
        "carvana_df.head()\n"
      ],
      "metadata": {
        "id": "gT4U7hYyqjUd"
      },
      "execution_count": null,
      "outputs": []
    },
    {
      "cell_type": "code",
      "source": [
        "# carmax_df.head()"
      ],
      "metadata": {
        "id": "NOE_R-uzCcdg"
      },
      "execution_count": null,
      "outputs": []
    },
    {
      "cell_type": "code",
      "source": [
        "carvana_df = carvana_df.drop(np.array(carvana_df[carvana_df.src == 'x'].index))\n",
        "# carmax_df = carmax_df.drop(np.array(carmax_df[carmax_df.src == 'x'].index))\n",
        "\n",
        "carvana_df = carvana_df[['src']]\n",
        "# carmax_df = carmax_df[['src']]\n",
        "\n",
        "carvana_df['src'] = carvana_df['src'].apply(lambda x: \"https:\" + x)\n",
        "\n",
        "# carmax_df['org'] = 'carmax'\n",
        "carvana_df['org'] = 'carvana'"
      ],
      "metadata": {
        "id": "kEQOD2O8qkb6"
      },
      "execution_count": null,
      "outputs": []
    },
    {
      "cell_type": "code",
      "source": [
        "# all_cars = pd.concat([carvana_df, carmax_df], axis=0, ignore_index=True, sort=True)\n",
        "\n",
        "all_cars = carvana_df\n",
        "\n",
        "all_cars = all_cars.drop_duplicates()\n",
        "\n",
        "all_cars.info()\n",
        "\n",
        "all_cars.head()\n",
        "\n",
        "# len(all_cars[all_cars.org == 'carmax'])\n",
        "# len(all_cars[all_cars.org == 'carvana'])"
      ],
      "metadata": {
        "id": "JRXQtH631Cn0"
      },
      "execution_count": null,
      "outputs": []
    },
    {
      "cell_type": "code",
      "source": [
        "all_cars = all_cars.reset_index()\n",
        "all_cars.drop(['index'],axis=1, inplace=True)"
      ],
      "metadata": {
        "id": "gDgDr1qK1HFF"
      },
      "execution_count": null,
      "outputs": []
    },
    {
      "cell_type": "code",
      "source": [
        "desired_size = 128 # image size for DCGAN\n",
        "error_count = 0"
      ],
      "metadata": {
        "id": "0k0XM6HzJyBg"
      },
      "execution_count": null,
      "outputs": []
    },
    {
      "cell_type": "code",
      "source": [
        "def save_carvana(src, index):\n",
        "    urllib.request.urlretrieve(src, \"/content/drive/MyDrive/ganDataset/data/\" + str(i) + \".jpg\")\n",
        "    \n",
        "    im_pth = '/content/drive/MyDrive/ganDataset/data/' + str(i) + '.jpg'\n",
        "    im = Image.open(im_pth)\n",
        "    im = im.crop((73,0,673,im.size[1]))\n",
        "    old_size = im.size\n",
        "    ratio = float(desired_size)/max(old_size)\n",
        "    new_size = tuple([int(x*ratio) for x in old_size])\n",
        "    im = im.resize(new_size, Image.ANTIALIAS)\n",
        "    new_im = Image.new(\"RGB\", (desired_size, desired_size))\n",
        "    new_im.paste(im, ((desired_size-new_size[0])//2,\n",
        "                    (desired_size-new_size[1])//2))\n",
        "    new_im = new_im.transpose(Image.FLIP_LEFT_RIGHT)\n",
        "    new_im.save('/content/drive/MyDrive/ganDataset/data_final/' + str(desired_size) + '_' + str(index) + '.jpg')\n",
        "    \n"
      ],
      "metadata": {
        "id": "cCGmLnnrJxu1"
      },
      "execution_count": null,
      "outputs": []
    },
    {
      "cell_type": "code",
      "source": [
        "# def save_carmax(src, index):\n",
        "#     cont = False\n",
        "#     count = 0\n",
        "#     while (not cont) and count < 10:\n",
        "#         try:\n",
        "#             urllib.request.urlretrieve(src, \"../images/carmax/\" + str(i) + \".jpg\")\n",
        "#             cont = True\n",
        "#         except (HTTPError, URLError) as error:\n",
        "#             print(\"Error occurred at \" + str(i))\n",
        "#             count += 1\n",
        "#     print(src)\n",
        "#     try: \n",
        "#       urllib.request.urlretrieve(src, \"/content/drive/MyDrive/ganDataset/data/\" + str(i) + \".jpg\")\n",
        "#     except (HTTPError, URLError) as error:\n",
        "#       print(\"Error occurred at \" + str(i))\n",
        "#       error_count += 1"
      ],
      "metadata": {
        "id": "wc9eRNHLJjdP"
      },
      "execution_count": null,
      "outputs": []
    },
    {
      "cell_type": "code",
      "source": [
        "for i in range(len(all_cars)):\n",
        "    # org = all_cars.iloc[i].org\n",
        "    # if org == 'carmax':\n",
        "    #     save_carmax(src, i)\n",
        "    # else:\n",
        "    #     save_carvana(src, i)\n",
        "\n",
        "    src = all_cars.iloc[i].src\n",
        "\n",
        "    save_carvana(src, i)"
      ],
      "metadata": {
        "id": "VweoqNkr7TQ4"
      },
      "execution_count": null,
      "outputs": []
    },
    {
      "cell_type": "code",
      "source": [
        "# import shutil\n",
        "# print(str(desired_size) + \"_%05d\" % 2 + \".jpg\")\n",
        "\n",
        "# import os \n",
        "# for i in range(100):\n",
        "#   i = i + 52\n",
        "#   os.remove('/content/drive/MyDrive/ganDataset/data_final/' + str(desired_size) + \"_%05d\" % i + \".jpg\")\n",
        "\n",
        "# for i in range(8144):\n",
        "#     i = i + 1\n",
        "#     im_pth = '/content/drive/MyDrive/GAN/cars_train/' + '%05d' % i + '.jpg'\n",
        "#     im = Image.open(im_pth)\n",
        "#     im = im.crop((73,0,673,im.size[1]))\n",
        "#     old_size = im.size\n",
        "#     ratio = float(desired_size)/max(old_size)\n",
        "#     new_size = tuple([int(x*ratio) for x in old_size])\n",
        "#     im = im.resize(new_size, Image.ANTIALIAS)\n",
        "#     new_im = Image.new(\"RGB\", (desired_size, desired_size))\n",
        "#     new_im.paste(im, ((desired_size-new_size[0])//2,\n",
        "#                     (desired_size-new_size[1])//2))\n",
        "#     new_im = new_im.transpose(Image.FLIP_LEFT_RIGHT)\n",
        "#     im.save('/content/drive/MyDrive/ganDataset/data_final/' + str(desired_size) + \"_%05d\" % i + \".jpg\")"
      ],
      "metadata": {
        "id": "IhTl8WXM3Z_8"
      },
      "execution_count": null,
      "outputs": []
    }
  ]
}
